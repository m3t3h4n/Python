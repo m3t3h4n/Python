{
 "cells": [
  {
   "cell_type": "code",
   "execution_count": 1,
   "metadata": {},
   "outputs": [],
   "source": [
    "#Sınıflar\n",
    "#Kendi veri tiplerimizi oluşturmak ve bu ver tiplerinden objeler üretmek için öncelikle objeleri üreteceğimiz yapıyı tanımlamamız gerek.\n",
    "#Bunu tasarladığımız yapıya da class denir.\n",
    "#Classlar objelerimizi oluştururken, objelerin özellklerini ve metodlarını tanımladığımız bir yapıdır ve her bir objeyi bu yapya göre üretiriz.\n"
   ]
  },
  {
   "cell_type": "code",
   "execution_count": 2,
   "metadata": {},
   "outputs": [],
   "source": [
    "#Örnek\n",
    "class kisiBilgisi(): #Sınıfımızı tanımladık\n",
    "    ad = \"Metehan\"\n",
    "    soyad = \"Özdeniz\"\n",
    "    yas = 20"
   ]
  },
  {
   "cell_type": "code",
   "execution_count": 3,
   "metadata": {},
   "outputs": [],
   "source": [
    "#Sınıflardan objeler oluşturmak için ise\n",
    "#obje_ismi = sınıf_ismi\n",
    "bilgi = kisiBilgisi() #kisiBilgisi class'ından bilgi objesi oluşturuldu\n",
    "#Bilgi objesi artık kisiBilgisi sınıfındaki bütün özellklere(attributs) sahip olmuş oldu."
   ]
  },
  {
   "cell_type": "code",
   "execution_count": 5,
   "metadata": {},
   "outputs": [
    {
     "name": "stdout",
     "output_type": "stream",
     "text": [
      "Metehan\n",
      "Özdeniz\n",
      "20\n"
     ]
    }
   ],
   "source": [
    "#Bu objenin özelliklerini görmek için ise\n",
    "#obje_ismi.özellik_ismi\n",
    "print(bilgi.ad)\n",
    "print(bilgi.soyad)\n",
    "print(bilgi.yas)"
   ]
  },
  {
   "cell_type": "code",
   "execution_count": 6,
   "metadata": {},
   "outputs": [
    {
     "name": "stdout",
     "output_type": "stream",
     "text": [
      "Metehan Özdeniz 20\n"
     ]
    }
   ],
   "source": [
    "#Başka bir obje oluşturalım\n",
    "bilgi2 = kisiBilgisi()\n",
    "print(bilgi2.ad,bilgi2.soyad,bilgi2.yas)"
   ]
  },
  {
   "cell_type": "code",
   "execution_count": 7,
   "metadata": {},
   "outputs": [
    {
     "name": "stdout",
     "output_type": "stream",
     "text": [
      "Metehan\n",
      "Özdeniz\n"
     ]
    }
   ],
   "source": [
    "#Oluşturulan objelerin özellikleri aynı oldu.Çünkü aslında bu objelerin özellikleri birer sınıf özelliğidir.\n",
    "#Yani bir obje oluşturulduğunda, bu özelliklerin değerleri varsayılan olarak gelir.\n",
    "#Bu özelliklerin değerlerine obje oluşturulmadan da erişilebilir.\n",
    "#Class_ismi.Özellik_ismi()\n",
    "print(kisiBilgisi.ad)\n",
    "print(kisiBilgisi.soyad)"
   ]
  },
  {
   "cell_type": "code",
   "execution_count": 8,
   "metadata": {},
   "outputs": [],
   "source": [
    "#Her bir objeyi başlangıçta farklı değerlerle oluşturmak için, her bir objeyi oluştururken objelerin değerilerini classa göndermemiz gerekiyor.\n",
    "#Bunun içinde özel bir metodu kullanmak gerekiyor.\n",
    "# __init__() metodu\n",
    "# __init__() metodu python da yapıcı(constructor) fonksiyon olarak da adlandırılır.\n",
    "# Bu metod objeler oluşturulurken, yani classlar çalışırken, otomatik olarak çağrılan ilk fonksiyondur.\n",
    "#Yani objeleri oluştururken objelerin özelliklerini __init__() fonksiyonunun içine yazarsak,  classda  da ilk olarak __init__()\n",
    "#fonksiyonu çalışacağı için, ilk olarak class ın özelliklerini de tanımlamış oluruz.\n",
    "#Bu sayede objeyi oluştururken, objeye argüman girerek, classın içindeki ilk çalışacak olan __init()__ fonksiyonuna parametre\n",
    "#göndermiş oluyoruz ve objemizin özellikleri tanımlanmış oluyor."
   ]
  },
  {
   "cell_type": "code",
   "execution_count": 1,
   "metadata": {},
   "outputs": [
    {
     "name": "stdout",
     "output_type": "stream",
     "text": [
      "Class'ın içindeki __init__() fonksiyonu çalıştı.\n",
      "<__main__.kisiBilgisi object at 0x000000000525B6A0>\n"
     ]
    }
   ],
   "source": [
    "#Örnek \n",
    "class kisiBilgisi():\n",
    "    #Daha herhangi bir özellik atanmadı\n",
    "    def __init__(self):\n",
    "        print(\"Class'ın içindeki __init__() fonksiyonu çalıştı.\")\n",
    "bilgi = kisiBilgisi()\n",
    "print(bilgi)"
   ]
  },
  {
   "cell_type": "code",
   "execution_count": 12,
   "metadata": {},
   "outputs": [
    {
     "name": "stdout",
     "output_type": "stream",
     "text": [
      "['__class__', '__delattr__', '__dict__', '__dir__', '__doc__', '__eq__', '__format__', '__ge__', '__getattribute__', '__gt__', '__hash__', '__init__', '__init_subclass__', '__le__', '__lt__', '__module__', '__ne__', '__new__', '__reduce__', '__reduce_ex__', '__repr__', '__setattr__', '__sizeof__', '__str__', '__subclasshook__', '__weakref__']\n"
     ]
    }
   ],
   "source": [
    "#Objelerin içinde __init__() fonksiyonu gibi birçok metod vardır.\n",
    "#Objeler oluşturulurken bizim oluşturduğumuz özellikler dışında bu metodlar da varsayılan olarak objelerin içinde oluşur.\n",
    "#Objenin içindeki metodları ve özellikleri görmek için ise\n",
    "print(dir(bilgi))\n",
    "#Bu varsayılan metodlarıda kendi istediğimiz gibi değiştirip kullanabiliriz."
   ]
  },
  {
   "cell_type": "code",
   "execution_count": 13,
   "metadata": {},
   "outputs": [],
   "source": [
    "#Peki buradaki self ne anlama geliyor.\n",
    "#self kelimesi obje oluşturulurken o objeyi gösteren bir referanstır ve metodlarda en başata bulunması gereken bir parametredir.\n",
    "#Yani objenin bütün özellikleri ve metodları bu referans üzerinden kullanılmalıdır."
   ]
  },
  {
   "cell_type": "code",
   "execution_count": 5,
   "metadata": {},
   "outputs": [
    {
     "name": "stdout",
     "output_type": "stream",
     "text": [
      "Metehan\n",
      "Özdeniz\n",
      "20\n",
      "bilgi yok\n"
     ]
    }
   ],
   "source": [
    "#Örnek\n",
    "class kisiBilgisi():\n",
    "    def __init__(self,ad,soyad,yas,numara = \"bilgi yok\"): #parametrelerin değerleri objeler oluşturulurken gönderilircektir.\n",
    "        self.ad = ad #self.özellik_ismi = parametre değeri şeklinde objemizin ad özelliğine değeri atıyoruz.\n",
    "        self.soyad = soyad #self.özellik_ismi = parametre değeri şeklinde objemizin soyad özelliğine değeri atıyoruz.\n",
    "        self.yas = yas #self.özellik_ismi = parametre değeri şeklinde objemizin yas özelliğine değeri atıyoruz.\n",
    "        self.numara = numara #self.özellik_ismi = parametre değeri şeklinde objemizin numara özelliğine değeri atıyoruz.\n",
    "bilgi = kisiBilgisi(\"Metehan\",\"Özdeniz\", 20) #Artık değerler gönderilerek objelerin özelliklerine istenilen değerler verilebilir.\n",
    "#bilgi objesi oluşurken kisiBilgisi classına numara argümanını girmedik.Çünkü numara parametresine varsayılan bir değer verdik.\n",
    "print(bilgi.ad)\n",
    "print(bilgi.soyad)\n",
    "print(bilgi.yas)\n",
    "print(bilgi.numara)"
   ]
  },
  {
   "cell_type": "code",
   "execution_count": 6,
   "metadata": {},
   "outputs": [
    {
     "name": "stdout",
     "output_type": "stream",
     "text": [
      "Yazılımcı bilgisi :\n",
      "Ad : Metehan\n",
      "Soyad : ısofjasfd\n",
      "Numara : sdpfg\n",
      "Maaş :5465\n",
      "Diller : ['C#', 'Python']\n"
     ]
    }
   ],
   "source": [
    "#Bir sınıf içerisine metodlar tanımlama\n",
    "class Yazilimci():\n",
    "    def __init__(self,ad,soyad,numara,maas,diller):\n",
    "        self.ad = ad\n",
    "        self.soyad = soyad\n",
    "        self.numara = numara\n",
    "        self.maas = maas\n",
    "        self.diller = diller\n",
    "    def bilgiGoster(self):\n",
    "        return \"Yazılımcı bilgisi :\\nAd : {}\\nSoyad : {}\\nNumara : {}\\nMaaş :{}\\nDiller : {}\".format(self.ad,self.soyad,self.numara,self.maas,self.diller)\n",
    "bilgi = Yazilimci(\"Metehan\",\"ısofjasfd\",\"sdpfg\",5465,[\"C#\",\"Python\"])\n",
    "print(bilgi.bilgiGoster())\n",
    "#Burada bilgiGoster methodu self den başka parametre almadığı için argüman girilmedi.Eğer Method parametre alsaydı\n",
    "#objeyi kullanırken de argüman girmek zorunda kalacaktık."
   ]
  },
  {
   "cell_type": "code",
   "execution_count": 2,
   "metadata": {},
   "outputs": [
    {
     "name": "stdout",
     "output_type": "stream",
     "text": [
      "Yazilimci Classının __init__() fonksiyonu çalıştı.\n",
      "Yazılımcı bilgisi :\n",
      "Ad : Metehan\n",
      "Soyad : ısofjasfd\n",
      "Numara : sdpfg\n",
      "Maaş :5465\n",
      "Diller : ['C#', 'Python']\n",
      "None\n",
      "Maaş Yükseltildi..\n",
      "Dil Eklendi..\n",
      "Yazılımcı bilgisi :\n",
      "Ad : Metehan\n",
      "Soyad : ısofjasfd\n",
      "Numara : sdpfg\n",
      "Maaş :5965\n",
      "Diller : ['C#', 'Python', 'JavaScript']\n"
     ]
    }
   ],
   "source": [
    "#Örnek\n",
    "class Yazilimci():\n",
    "    def __init__(self,ad,soyad,numara,maas,diller):\n",
    "        print(\"Yazilimci Classının __init__() fonksiyonu çalıştı.\")\n",
    "        self.ad = ad\n",
    "        self.soyad = soyad\n",
    "        self.numara = numara\n",
    "        self.maas = maas\n",
    "        self.diller = diller\n",
    "    def bilgiGoster(self):\n",
    "        print(\"Yazılımcı bilgisi :\\nAd : {}\\nSoyad : {}\\nNumara : {}\\nMaaş :{}\\nDiller : {}\".format(self.ad,self.soyad,self.numara,self.maas,self.diller))\n",
    "    def maasYukselt(self,yeniMaas):\n",
    "        print(\"Maaş Yükseltildi..\")\n",
    "        self.maas += yeniMaas\n",
    "    def dilEkle(self, yeniDil):\n",
    "        print(\"Dil Eklendi..\")\n",
    "        self.diller.append(yeniDil)\n",
    "bilgi = Yazilimci(\"Metehan\",\"ısofjasfd\",\"sdpfg\",5465,[\"C#\",\"Python\"])\n",
    "print(bilgi.bilgiGoster())\n",
    "bilgi.maasYukselt(500)\n",
    "bilgi.dilEkle(\"JavaScript\")\n",
    "bilgi.bilgiGoster()\n",
    "#maasYukselt ve dilEkle methodları parametre aldığı için objeleri gösterirken argümanda girildi."
   ]
  },
  {
   "cell_type": "code",
   "execution_count": 3,
   "metadata": {},
   "outputs": [
    {
     "name": "stdout",
     "output_type": "stream",
     "text": [
      "Yazilimci Classının __init__() fonksiyonu çalıştı.\n",
      "Yazılımcı bilgisi :\n",
      "Ad : Mücahit\n",
      "Soyad : Duman\n",
      "Numara : 98969\n",
      "Maaş :5986\n",
      "Diller : ['HTML', 'PHP', 'Css']\n",
      "Dil Eklendi..\n",
      "Yazılımcı bilgisi :\n",
      "Ad : Mücahit\n",
      "Soyad : Duman\n",
      "Numara : 98969\n",
      "Maaş :5986\n",
      "Diller : ['HTML', 'PHP', 'Css', 'JavaScript']\n"
     ]
    }
   ],
   "source": [
    "#Inheritance(Miras alma) : Bir sınıfın özelliklerini başka bir sınıfta kullanmaya yarar\n",
    "#Örnek\n",
    "class Programcı(Yazilimci): #İçerisine herhangi bir özellik tanımlanmamasına rağmen Yazilimci sınıfının özelliklerini miras aldı\n",
    "    pass #Daha sonra birşey yazılacağı, sınıfı böyle çalıştır anlamına gelir.Eğer boş bırakılsaydı hata verirdi.\n",
    "programci = Programcı(\"Mücahit\",\"Duman\",\"98969\",5986,[\"HTML\",\"PHP\",\"Css\"])\n",
    "programci.bilgiGoster()\n",
    "\n",
    "programci.dilEkle(\"JavaScript\")\n",
    "programci.bilgiGoster()"
   ]
  },
  {
   "cell_type": "code",
   "execution_count": 25,
   "metadata": {},
   "outputs": [
    {
     "name": "stdout",
     "output_type": "stream",
     "text": [
      "Yazılımcı bilgisi :\n",
      " Ad : Mücahit\n",
      "Soyad : Duman\n",
      "Numara : 68456\n",
      "Maaş :5000\n",
      "Diller : ['C#']\n",
      "Zam yapıldı\n",
      "Yazılımcı bilgisi :\n",
      " Ad : Mücahit\n",
      "Soyad : Duman\n",
      "Numara : 68456\n",
      "Maaş :6000\n",
      "Diller : ['C#']\n"
     ]
    }
   ],
   "source": [
    "#Miras alınan class ın içine kendi fonksiyonlarımızda yazılabilir.\n",
    "#Örnek : \n",
    "class Programci(Yazilimci):\n",
    "    def zam_yap(self,zam):\n",
    "        self.maas += zam\n",
    "        print(\"Zam yapıldı\")\n",
    "programci = Programci(\"Mücahit\",\"Duman\",\"68456\",5000,[\"C#\"])\n",
    "programci.bilgiGoster()\n",
    "programci.zam_yap(1000)\n",
    "programci.bilgiGoster()"
   ]
  },
  {
   "cell_type": "code",
   "execution_count": 28,
   "metadata": {},
   "outputs": [],
   "source": [
    "#Eğer ana class daki fonksiyon ismiyle miras alınan classdaki fonksiyonun ismi aynı ise ne olur?\n",
    "#Override yani ana classdaki fonksiyon iptal olur."
   ]
  },
  {
   "cell_type": "code",
   "execution_count": 29,
   "metadata": {},
   "outputs": [],
   "source": [
    "#Super anahtar kelimesi\n",
    "#Super en genel anlamıyla override ettiğimiz bir methodun içinde miras aldığımız sınıfın metodlarını \n",
    "#alt sınıflardan kullanmamızı sağlar."
   ]
  },
  {
   "cell_type": "code",
   "execution_count": 30,
   "metadata": {},
   "outputs": [
    {
     "name": "stdout",
     "output_type": "stream",
     "text": [
      "Yazilimci Classının __init__() fonksiyonu çalıştı.\n",
      "Yazılımcı bilgisi :\n",
      " Ad : Metehan\n",
      "Soyad : ısofjasfd\n",
      "Numara : sdpfg\n",
      "Maaş :5465\n",
      "Diller : ['C#', 'Python']\n",
      "None\n",
      "Dil Eklendi..\n",
      "Yazılımcı bilgisi :\n",
      " Ad : Metehan\n",
      "Soyad : ısofjasfd\n",
      "Numara : sdpfg\n",
      "Maaş :5465\n",
      "Diller : ['C#', 'Python', 'JavaScript']\n"
     ]
    }
   ],
   "source": [
    "#Örnek:\n",
    "class Yazilimci(): #Sınfımızı tekrar tanımlayalım.\n",
    "    def __init__(self,ad,soyad,numara,maas,diller):\n",
    "        print(\"Yazilimci Classının __init__() fonksiyonu çalıştı.\")\n",
    "        self.ad = ad\n",
    "        self.soyad = soyad\n",
    "        self.numara = numara\n",
    "        self.maas = maas\n",
    "        self.diller = diller\n",
    "    def bilgiGoster(self):\n",
    "        print(\"Yazılımcı bilgisi :\\n Ad : {}\\nSoyad : {}\\nNumara : {}\\nMaaş :{}\\nDiller : {}\".format(self.ad,self.soyad,self.numara,self.maas,self.diller))\n",
    "    def maasYukselt(self,yeniMaas):\n",
    "        print(\"Maaş Yükseltildi..\")\n",
    "        self.maas += yeniMaas\n",
    "    def dilEkle(self, yeniDil):\n",
    "        print(\"Dil Eklendi..\")\n",
    "        self.diller.append(yeniDil)\n",
    "bilgi = Yazilimci(\"Metehan\",\"ısofjasfd\",\"sdpfg\",5465,[\"C#\",\"Python\"])\n",
    "print(bilgi.bilgiGoster())\n",
    "bilgi.dilEkle(\"JavaScript\")\n",
    "bilgi.bilgiGoster()"
   ]
  },
  {
   "cell_type": "code",
   "execution_count": 37,
   "metadata": {},
   "outputs": [
    {
     "name": "stdout",
     "output_type": "stream",
     "text": [
      "Yazilimci Classının __init__() fonksiyonu çalıştı.\n",
      "Programci classının __init__() fonksiyonu çalıştı...\n",
      "Programcı bilgisi : \n",
      "Ad : Mücahit\n",
      "Soyad : Duman\n",
      "Numara : 68456\n",
      "Maaş : 5000\n",
      "Diller : ['C#']\n",
      "Hobiler : Kitap Okumak\n"
     ]
    }
   ],
   "source": [
    "#Override yapacağımız ve miras alacağımız sınıfımızıda tanımlayalım\n",
    "class Programci(Yazilimci):\n",
    "    def __init__(self,ad,soyad,numara,maas,diller,hobiler): #Override yapılacak fonksiyon tekrar çağrıldı ve hobiler adında yeni bir parametre eklendi\n",
    "        #Override methodunda ad,soyad,numara,maas diller özelliklerini tekrar tanımlamamak için, iptal edilen fonksiyondan çağırmak için super() anahtar kelimesi kullanılır\n",
    "        super().__init__(ad,soyad,numara,maas,diller) #Override yapılan yani iptal olan methodun özelliklerini tekrar aldı\n",
    "        self.hobiler = hobiler #Override yapıalan fonksiyona hobiler adında yeni bir özellik eklendi\n",
    "        print(\"Programci classının __init__() fonksiyonu çalıştı...\")\n",
    "    def bilgileri_goster(self):\n",
    "        print(\"Programcı bilgisi : \")\n",
    "        print(\"Ad : {}\\nSoyad : {}\\nNumara : {}\\nMaaş : {}\\nDiller : {}\\nHobiler : {}\".format(self.ad,self.soyad,self.numara,self.maas,self.diller,self.hobiler))\n",
    "        \n",
    "    def zam_yap(self,zam):\n",
    "        self.maas += zam\n",
    "        print(\"Zam yapıldı\")\n",
    "programci = Programci(\"Mücahit\",\"Duman\",\"68456\",5000,[\"C#\"],\"Kitap Okumak\")\n",
    "programci.bilgileri_goster()"
   ]
  },
  {
   "cell_type": "code",
   "execution_count": 43,
   "metadata": {},
   "outputs": [
    {
     "name": "stdout",
     "output_type": "stream",
     "text": [
      "Kitap class ının __init__() fonksiyonu...\n",
      "<__main__.Kitap object at 0x0000000005713908>\n"
     ]
    }
   ],
   "source": [
    "#Özel Methodlar : Bizim özel olarak oluşturmadığımız, ancak her class a default olarak tanımlanan methodlardır.\n",
    "#__str__() methodu: bir objeyi print fonksiyonu ile ekrana yazdırdığımızda geri döndürülecek değeri oluşturmaya yarar.Eğer __str__() methodunu kendimiz oluşturmazsak python bu methodu default olarak oluşturup bizim önümüze sunacaktır.\n",
    "#Örnek : \n",
    "class Kitap():\n",
    "    def __init__(self,isim,yazar,sayfa_sayisi,tur):\n",
    "        print(\"Kitap class ının __init__() fonksiyonu...\")\n",
    "        self.isim = isim\n",
    "        self.yazar = yazar\n",
    "        self.sayfa_sayisi = sayfa_sayisi\n",
    "        self.tur = tur\n",
    "kitap1 = Kitap(\"İstanbul Hatırası\",\"Ahmet Ümit\",561,\"Polisiye\")\n",
    "print(kitap1) #Ekrana \"<__main__.Kitap object at 0x0000000005713908>\" şeklinde bir değer döndürdü.__str__() methodu bu değeri istediğimiz şekilde return etmeye yarar"
   ]
  },
  {
   "cell_type": "code",
   "execution_count": 45,
   "metadata": {},
   "outputs": [
    {
     "name": "stdout",
     "output_type": "stream",
     "text": [
      "Kitap class ının __init__() fonksiyonu...\n",
      "Kitap Adı : İstanbul Hatırası\n",
      "Yazar : Ahmet Ümit\n",
      "Sayfa Sayısı : 561\n",
      "Tür : Polisiye\n"
     ]
    }
   ],
   "source": [
    "#Örnek:\n",
    "class Kitap():\n",
    "    def __init__(self,isim,yazar,sayfa_sayisi,tur):\n",
    "        print(\"Kitap class ının __init__() fonksiyonu...\")\n",
    "        self.isim = isim\n",
    "        self.yazar = yazar\n",
    "        self.sayfa_sayisi = sayfa_sayisi\n",
    "        self.tur = tur\n",
    "    def __str__(self):\n",
    "        return \"Kitap Adı : {}\\nYazar : {}\\nSayfa Sayısı : {}\\nTür : {}\".format(self.isim,self.yazar,self.sayfa_sayisi,self.tur)\n",
    "kitap1 = Kitap(\"İstanbul Hatırası\",\"Ahmet Ümit\",561,\"Polisiye\")\n",
    "print(kitap1)\n",
    "#İlk başta kitap1 objesi ekrana print fonksiyonu ile yazdırıldığındaki değer ile şimdiki değer arasında ki fark...\n",
    "#Not : __str__() methodunda geri döndürülecek değerin başına mutlaka return ifadesi koyulmalıdır."
   ]
  },
  {
   "cell_type": "code",
   "execution_count": null,
   "metadata": {},
   "outputs": [],
   "source": []
  }
 ],
 "metadata": {
  "kernelspec": {
   "display_name": "Python 3",
   "language": "python",
   "name": "python3"
  },
  "language_info": {
   "codemirror_mode": {
    "name": "ipython",
    "version": 3
   },
   "file_extension": ".py",
   "mimetype": "text/x-python",
   "name": "python",
   "nbconvert_exporter": "python",
   "pygments_lexer": "ipython3",
   "version": "3.7.1"
  }
 },
 "nbformat": 4,
 "nbformat_minor": 2
}
