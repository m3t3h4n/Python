{
 "cells": [
  {
   "cell_type": "code",
   "execution_count": 1,
   "metadata": {},
   "outputs": [
    {
     "name": "stdout",
     "output_type": "stream",
     "text": [
      "1\n",
      "2\n",
      "3\n",
      "4\n",
      "5\n"
     ]
    }
   ],
   "source": [
    "#*args parametresi\n",
    "def fonksiyon(*args): #Bu fonksiyon istediğim kadar parametre alabilir ve istediğim kadar argüman gönderebilirm.\n",
    "    for i in args:\n",
    "        print(i)\n",
    "fonksiyon(1,2,3,4,5) #Gönderilen argümanlar args adında bir demete dönüştü ve for döngüsü ile çektim."
   ]
  },
  {
   "cell_type": "code",
   "execution_count": 2,
   "metadata": {},
   "outputs": [
    {
     "name": "stdout",
     "output_type": "stream",
     "text": [
      "İsim :  Metehan\n",
      "----------------\n",
      "1\n",
      "2\n",
      "3\n"
     ]
    }
   ],
   "source": [
    "def fonksiyon(isim,*args):\n",
    "    print(\"İsim : \",isim)\n",
    "    print(\"----------------\")\n",
    "    for i in args:\n",
    "        print(i)\n",
    "fonksiyon(\"Metehan\",1,2,3) #Metehan argümanı ilk önce isim parametresi ile eşleşiyor ve ondan sonraki argümanlar ise *args parametresi ile eşleşiyor."
   ]
  },
  {
   "cell_type": "code",
   "execution_count": 4,
   "metadata": {},
   "outputs": [
    {
     "name": "stdout",
     "output_type": "stream",
     "text": [
      "{'isim': 'Metehan', 'soyad': 'Özdeniz', 'numara': 123}\n"
     ]
    }
   ],
   "source": [
    "#**kwargs parametresi : parametrelere isim vermeye yarar.Parametreleri bir sözlüğe dönüştürür.\n",
    "def fonksiyon(**kwargs):\n",
    "    print(kwargs)\n",
    "fonksiyon(isim=\"Metehan\",soyad=\"Özdeniz\",numara=123) #parametreler bir sözlüğe dönüştü"
   ]
  },
  {
   "cell_type": "code",
   "execution_count": 7,
   "metadata": {},
   "outputs": [
    {
     "name": "stdout",
     "output_type": "stream",
     "text": [
      "Argüman ismi: isim Argüman Değeri: Metehan\n",
      "Argüman ismi: soyad Argüman Değeri: Özdeniz\n",
      "Argüman ismi: numara Argüman Değeri: 123\n"
     ]
    }
   ],
   "source": [
    "#Örnek\n",
    "def fonksiyon(**kwargs):\n",
    "    for i,j in kwargs.items():\n",
    "        print(\"Argüman ismi:\",i,\"Argüman Değeri:\",j)\n",
    "fonksiyon(isim=\"Metehan\",soyad=\"Özdeniz\",numara=123)"
   ]
  },
  {
   "cell_type": "code",
   "execution_count": 9,
   "metadata": {
    "scrolled": true
   },
   "outputs": [
    {
     "name": "stdout",
     "output_type": "stream",
     "text": [
      "1\n",
      "2\n",
      "3\n",
      "4\n",
      "---------------\n",
      "isim Metehan\n",
      "soyad Özdeniz\n",
      "numara 123\n"
     ]
    }
   ],
   "source": [
    "#*args ve **kwargs birlikte kullanma:\n",
    "def fonksiyon(*args,**kwargs):\n",
    "    for i in args:\n",
    "        print(i)\n",
    "    print(\"---------------\")\n",
    "    for i,j in kwargs.items():\n",
    "        print(i,j)\n",
    "fonksiyon(1,2,3,4,isim=\"Metehan\",soyad=\"Özdeniz\",numara=123) #ilk parametre *args olduğu için istediğim kadar değer verdim,ikinci parametre de **kwargs olduğu için sözlük veritipine uygun argüman gönderdim ve sonuç: "
   ]
  },
  {
   "cell_type": "code",
   "execution_count": 11,
   "metadata": {},
   "outputs": [
    {
     "name": "stdout",
     "output_type": "stream",
     "text": [
      "Büyük fonksiyon çalıştı.\n",
      "Küçük fonksiyon çalıştı.\n"
     ]
    }
   ],
   "source": [
    "#İç içe fonksiyonlar\n",
    "#Örnek\n",
    "def fonksiyon():\n",
    "    print(\"Büyük fonksiyon çalıştı.\")\n",
    "    def fonksiyon2():\n",
    "        print(\"Küçük fonksiyon çalıştı.\")\n",
    "    fonksiyon2()\n",
    "fonksiyon()"
   ]
  },
  {
   "cell_type": "code",
   "execution_count": 12,
   "metadata": {},
   "outputs": [
    {
     "name": "stdout",
     "output_type": "stream",
     "text": [
      "Toplam :  28\n"
     ]
    }
   ],
   "source": [
    "#İç içe fonksiyonlarda argüman gönderme\n",
    "def fonksiyon(*args):\n",
    "    def toplama(args):\n",
    "        toplam = 0\n",
    "        for i in args:\n",
    "            toplam+= i\n",
    "        print(\"Toplam : \", toplam)\n",
    "    toplama(args)\n",
    "fonksiyon(1,2,3,4,5,6,7)\n",
    "#İçerideki fonksiyon parametre olarak dışarıdaki fonksiyonun parmetresini alabilir.ş"
   ]
  },
  {
   "cell_type": "code",
   "execution_count": 16,
   "metadata": {},
   "outputs": [
    {
     "name": "stdout",
     "output_type": "stream",
     "text": [
      "Toplam :  28\n",
      "Çarpım :  120\n"
     ]
    }
   ],
   "source": [
    "#Fonksiyonları return ile dönmek\n",
    "#Dikkat : Fonksiyonun içindeki bir değeri return etmek değilde, bütün bir fonksiyonu return etmek.\n",
    "#Örnek:\n",
    "def islem(islem_adi):\n",
    "    def toplama(*args):\n",
    "        toplam= 0\n",
    "        for i in args:\n",
    "            toplam+=i\n",
    "        print(\"Toplam : \",toplam)\n",
    "    def carpma(*args):\n",
    "        carpım = 1\n",
    "        for i in args:\n",
    "            carpım*=i\n",
    "        print(\"Çarpım : \",carpım)\n",
    "    if(islem_adi == \"toplama\"):\n",
    "        return toplama #Toplama fonksiyonu return edildi.\n",
    "    elif(islem_adi == \"çarpma\"):\n",
    "        return carpma #carpma fonksiyonu return edildi.\n",
    "toplamaFonksiyonu = islem(\"toplama\") #islem fonksiyonu toplama fonksiyonunu return etti ve artık toplama fonksiyonu toplamaFonksiyonu objesine eşit oldu\n",
    "toplamaFonksiyonu(1,2,3,4,5,6,7)\n",
    "carpmaFonksiyonu = islem(\"çarpma\") #islem fonksiyonu carpma fonksiyonunu return etti ve artık carpma fonksiyonu carpmaFonksiyonu objesine eşit oldu.\n",
    "carpmaFonksiyonu(1,2,3,4,5)"
   ]
  },
  {
   "cell_type": "code",
   "execution_count": null,
   "metadata": {},
   "outputs": [],
   "source": [
    "#Decorator fonksiyonların oluşturulması ve kullanılması\n",
    "#Decorator fonksiyonlar ; fonksiyonlarımıza ekstra özellik eklediğimz fonksiyonlardır ve kod tekrarı yapmamızı engeller.\n",
    "#Konuyu anlamadım...."
   ]
  }
 ],
 "metadata": {
  "kernelspec": {
   "display_name": "Python 3",
   "language": "python",
   "name": "python3"
  },
  "language_info": {
   "codemirror_mode": {
    "name": "ipython",
    "version": 3
   },
   "file_extension": ".py",
   "mimetype": "text/x-python",
   "name": "python",
   "nbconvert_exporter": "python",
   "pygments_lexer": "ipython3",
   "version": "3.7.1"
  }
 },
 "nbformat": 4,
 "nbformat_minor": 2
}
