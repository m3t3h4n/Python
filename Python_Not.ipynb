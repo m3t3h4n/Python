{
 "cells": [
  {
   "cell_type": "code",
   "execution_count": 4,
   "metadata": {},
   "outputs": [],
   "source": [
    "#Liste"
   ]
  },
  {
   "cell_type": "code",
   "execution_count": 5,
   "metadata": {},
   "outputs": [
    {
     "name": "stdout",
     "output_type": "stream",
     "text": [
      "['m', 'e', 't', 'e', 'h', 'a', 'n']\n"
     ]
    }
   ],
   "source": [
    "#string i parçalayıp listeye dönüştürme list() fonksiyonu\n",
    "isim=\"metehan\"\n",
    "liste= list(isim)\n",
    "print(liste)"
   ]
  },
  {
   "cell_type": "code",
   "execution_count": 6,
   "metadata": {},
   "outputs": [
    {
     "name": "stdout",
     "output_type": "stream",
     "text": [
      "['m', 'e', 't', 'e', 'h', 'a', 'n']\n"
     ]
    }
   ],
   "source": [
    "#Yada ;\n",
    "isim = \"metehan\"\n",
    "liste = []\n",
    "for i in isim:\n",
    "    liste.append(i)\n",
    "print(liste)"
   ]
  },
  {
   "cell_type": "code",
   "execution_count": 7,
   "metadata": {},
   "outputs": [
    {
     "name": "stdout",
     "output_type": "stream",
     "text": [
      "[1, 2, 3, 4, 5, 6, 4, 8]\n"
     ]
    }
   ],
   "source": [
    "#Listeleri birleştirme işlemi\n",
    "liste1 = [1,2,3,4]\n",
    "liste2 = [5,6,4,8]\n",
    "birlesikListe = liste1+liste2\n",
    "print(birlesikListe)"
   ]
  },
  {
   "cell_type": "code",
   "execution_count": 8,
   "metadata": {},
   "outputs": [
    {
     "name": "stdout",
     "output_type": "stream",
     "text": [
      "[1, 2, 3, 4, 'metehan']\n"
     ]
    }
   ],
   "source": [
    "#Listeye Eleman Ekleme\n",
    "liste = [1,2,3,4]\n",
    "liste = liste + [\"metehan\"]\n",
    "print(liste)"
   ]
  },
  {
   "cell_type": "code",
   "execution_count": 9,
   "metadata": {},
   "outputs": [
    {
     "name": "stdout",
     "output_type": "stream",
     "text": [
      "[1, 2, 3, 4, 'Metehan']\n"
     ]
    }
   ],
   "source": [
    "#Yada;\n",
    "liste = [1,2,3,4]\n",
    "liste.append(\"Metehan\")\n",
    "print(liste)"
   ]
  },
  {
   "cell_type": "code",
   "execution_count": 13,
   "metadata": {},
   "outputs": [
    {
     "data": {
      "text/plain": [
       "7"
      ]
     },
     "execution_count": 13,
     "metadata": {},
     "output_type": "execute_result"
    }
   ],
   "source": [
    "# pop() methodu\n",
    "#Eğer içerisine değer vermezsek listedeki son elemanı listeden atıp ekrana basar.Eğer içerisine değer verirsek, içindeki değere karşılık gelen indeksdeki eleman listeden atılır ve ekrana basar\n",
    "liste = [1,2,3,4,5,6,7,8]\n",
    "liste.pop()\n",
    "liste.pop(6)"
   ]
  },
  {
   "cell_type": "code",
   "execution_count": 14,
   "metadata": {},
   "outputs": [
    {
     "name": "stdout",
     "output_type": "stream",
     "text": [
      "[1, 2, 6, 7, 8, 9]\n"
     ]
    }
   ],
   "source": [
    "#sort methodu listenin içindeki elemanları küçükten büyüğe doğru sıralanmasını sağlar.\n",
    "liste = [6,9,2,7,8,1]\n",
    "liste.sort()\n",
    "print(liste)\n",
    "#Eğer içierisinde string değerler olsaydı alfabetik sıraya göre sıralardı"
   ]
  },
  {
   "cell_type": "code",
   "execution_count": 15,
   "metadata": {},
   "outputs": [
    {
     "name": "stdout",
     "output_type": "stream",
     "text": [
      "[[1, 2, 3], [4, 5, 6], [7, 8, 9]]\n"
     ]
    }
   ],
   "source": [
    "#İç içe listeler\n",
    "liste1 = [1,2,3]\n",
    "liste2 = [4,5,6]\n",
    "liste3 = [7,8,9]\n",
    "yeniListe = [liste1,liste2,liste3]\n",
    "print(yeniListe)"
   ]
  },
  {
   "cell_type": "code",
   "execution_count": 16,
   "metadata": {},
   "outputs": [
    {
     "name": "stdout",
     "output_type": "stream",
     "text": [
      "4\n"
     ]
    }
   ],
   "source": [
    "#elemanlarına ulaşmak için ise\n",
    "print(yeniListe[1][0])"
   ]
  },
  {
   "cell_type": "code",
   "execution_count": null,
   "metadata": {},
   "outputs": [],
   "source": [
    "#Demetler\n",
    "#Demetler lisstelerle birebir ayıdır fakat aralarındaki tek fark oluşturma şekli ve değiştirilemez oluşlarıdır."
   ]
  },
  {
   "cell_type": "code",
   "execution_count": 18,
   "metadata": {},
   "outputs": [
    {
     "name": "stdout",
     "output_type": "stream",
     "text": [
      "m\n",
      "e\n",
      "t\n",
      "e\n",
      "h\n",
      "a\n",
      "n\n"
     ]
    }
   ],
   "source": [
    "#For döngüsüyle karkater dizilerinin üzerinde gezinmek\n",
    "isim = \"metehan\"\n",
    "for karakter in isim:\n",
    "    print(karakter)\n",
    "#Bu olay, liste ve demet içinde geçerlidir.\n",
    "#For döngüleri özel bir işlem yapılmamışsa, genellikle string değerler üzerinde çalıştırılır.Eğer sayısal değerler ile döngüyü döndürmek istiyorsak, for döngüsüyle beraber range() fonksiyonu da kullanılmalı yada while döngüsü kullanılmalıdır."
   ]
  },
  {
   "cell_type": "code",
   "execution_count": 2,
   "metadata": {},
   "outputs": [
    {
     "name": "stdout",
     "output_type": "stream",
     "text": [
      "0\n",
      "1\n",
      "2\n",
      "3\n",
      "4\n"
     ]
    }
   ],
   "source": [
    "#range() fonksiyonu; belirtilen başlangıç ve bitiş değerleri arasında bir sayı dizisi oluşturur.Eğer Başlangıç Değeri belirtilmezse, 0'dan başlar.\n",
    "for i in range(5):\n",
    "    print(i)"
   ]
  },
  {
   "cell_type": "code",
   "execution_count": 3,
   "metadata": {},
   "outputs": [
    {
     "name": "stdout",
     "output_type": "stream",
     "text": [
      "[1, 2, 3, 4, 5, 6, 7, 8, 9, 10, 11, 12, 13, 14, 15, 16, 17, 18, 19]\n"
     ]
    }
   ],
   "source": [
    "#yada;\n",
    "liste = list(range(1,20))\n",
    "print(liste)"
   ]
  },
  {
   "cell_type": "code",
   "execution_count": 25,
   "metadata": {},
   "outputs": [
    {
     "name": "stdout",
     "output_type": "stream",
     "text": [
      "0\n",
      "1\n",
      "2\n",
      "3\n",
      "4\n",
      "5\n",
      "6\n",
      "7\n",
      "8\n",
      "9\n",
      "10\n",
      "Döngü durdu\n"
     ]
    }
   ],
   "source": [
    "#Döngülerde kullanılan break ve continue ifadesi\n",
    "#Break; eğer döngü, herhangi bir yerde break ifadesiyle karşılaştığı zaman döngünün çalışmasını bir anda durdurur.\n",
    "#break ifadesi hangi döngünün içindesye o döngü durur.Eğer iç içe birçok döngü varsa ve break ifadesi en içteki döngünün içindeyse, sadece en içteki döngü durur.\n",
    "#Örnek:\n",
    "i = 0\n",
    "while(i<20):\n",
    "    print(i)\n",
    "    if(i == 10):\n",
    "        print(\"Döngü durdu\")\n",
    "        break\n",
    "    i+=1"
   ]
  },
  {
   "cell_type": "code",
   "execution_count": 28,
   "metadata": {},
   "outputs": [
    {
     "name": "stdout",
     "output_type": "stream",
     "text": [
      "0\n",
      "1\n",
      "2\n",
      "3\n",
      "4\n",
      "5\n",
      "6\n",
      "7\n",
      "8\n",
      "9\n",
      "10\n",
      "Döngü durdu\n"
     ]
    }
   ],
   "source": [
    "#for döngüsüyle örnek\n",
    "for i in range(20):\n",
    "    print(i)\n",
    "    if(i == 10):\n",
    "        print(\"Döngü durdu\")\n",
    "        break\n",
    "    "
   ]
  },
  {
   "cell_type": "code",
   "execution_count": 30,
   "metadata": {},
   "outputs": [
    {
     "name": "stdout",
     "output_type": "stream",
     "text": [
      "i:  0\n",
      "i:  1\n",
      "i:  2\n",
      "İşlem durdu\n",
      "i:  4\n",
      "İşlem durdu\n",
      "i:  6\n",
      "i:  7\n",
      "i:  8\n",
      "i:  9\n"
     ]
    }
   ],
   "source": [
    "#Continue; Eğer döngü continue ifadesi ile karşılaştığı zaman, devamındaki işlemleri yapmayı kesip döngünün başına dönüp devam eder.\n",
    "for i in range(10):\n",
    "    if(i == 3 or i == 5):\n",
    "        print(\"İşlem durdu\")\n",
    "        continue\n",
    "    print(\"i: \",i)"
   ]
  },
  {
   "cell_type": "code",
   "execution_count": 31,
   "metadata": {},
   "outputs": [],
   "source": [
    "#ÖNEMLİ : COMPREHENSİON ARAŞTIR"
   ]
  },
  {
   "cell_type": "code",
   "execution_count": 32,
   "metadata": {},
   "outputs": [
    {
     "name": "stdout",
     "output_type": "stream",
     "text": [
      "Merhaba  Metehan\n"
     ]
    }
   ],
   "source": [
    "#Fonksiiyonlar\n",
    "#Fonksiyona parametre ve argüman tanımlama\n",
    "def selamla(isim):\n",
    "    print(\"Merhaba \", isim)\n",
    "selamla(\"Metehan\")\n",
    "\n",
    "#Fonksiyon tanımlarken içine tanımlanan değer parametre, çağırırken içne tanımlanan değer ise argüman olmaktadır."
   ]
  },
  {
   "cell_type": "code",
   "execution_count": 33,
   "metadata": {},
   "outputs": [
    {
     "name": "stdout",
     "output_type": "stream",
     "text": [
      "3 , 4 ve 5 sayılarının toplamı, 12\n"
     ]
    }
   ],
   "source": [
    "#Örnek\n",
    "def topla(s1,s2,s3):\n",
    "    print(s1,\",\",s2,\"ve\",s3,\"sayılarının toplamı,\",s1+s2+s3)\n",
    "topla(3,4,5)"
   ]
  },
  {
   "cell_type": "code",
   "execution_count": null,
   "metadata": {},
   "outputs": [],
   "source": [
    "#bir sayının faktöriyelini hesaplayan fonksiyon\n",
    "fak = int(input(\"Bir sayı girin :\"))\n",
    "def faktoriyel(sayi):\n",
    "    faktoriyel = 1\n",
    "    if(sayi == 1 or sayi == 0):\n",
    "        print(sayi,\"Faktoriyeli\", faktoriyel)\n",
    "    else:\n",
    "        while(sayi>= 1):\n",
    "            faktoriyel *= sayi\n",
    "            sayi -=1\n",
    "        print(\"Faktoriyel : \",faktoriyel)\n",
    "faktoriyel(fak)"
   ]
  },
  {
   "cell_type": "code",
   "execution_count": null,
   "metadata": {},
   "outputs": [],
   "source": [
    "#Return ifadesi\n",
    "#return; bir fonksiyonun sonucunda elde edilen değeri dışına göndermeye yarar. Böylelikle fonksiyondan alınan değer bir değişkene depolanabilir ve programın farklı yerlerinde kullanılabilir.\n",
    "#Örnek\n",
    "def toplama(a,b,c):\n",
    "    print(\"Toplamları,\",a+b+c)\n",
    "def ikiyleCarp(d):\n",
    "    print(\"İkiyle Çarpımı,\"d*2)\n",
    "toplam = toplama(3,4,5)\n",
    "ikiyleCarp(toplam)\n",
    "#Şeklinde yapılırsa hata verir.Çünkü toplam değişkeninin içine toplama fonksiyonunun değerini return etmeden atmaya çalıştık fakat toplama fonksiyonu bir değer döndürmediği için toplam değişkeninin içi boş olacaktır ve ikiyleCarp fonksiyonuda çalışmayacaktır."
   ]
  },
  {
   "cell_type": "code",
   "execution_count": null,
   "metadata": {},
   "outputs": [],
   "source": [
    "#Doğru hali\n",
    "def toplama(a,b,c):\n",
    "    toplam= a+b+c\n",
    "    return toplam\n",
    "def ikiyleCarp(d):\n",
    "    carpim = d*2\n",
    "    print(\"ikiyle çarpımı,\",carpim)\n",
    "ikiyleCarp(toplama(3,4,5))"
   ]
  },
  {
   "cell_type": "code",
   "execution_count": 39,
   "metadata": {},
   "outputs": [],
   "source": [
    "#Return ifadesi fonksiyonun en sonunda çalıştırılmalıdır.Çünkü return ifadesinden sonra fonksiyon biter."
   ]
  },
  {
   "cell_type": "code",
   "execution_count": null,
   "metadata": {},
   "outputs": [],
   "source": [
    "#Örnek\n",
    "def ikiyleTopla(a):\n",
    "    print(\"Birinci fonksiyon çalıştı.\")\n",
    "    return a+2\n",
    "def ucleCarp(a):\n",
    "    print(\"İkinci fonksiyon çalıştı.\")\n",
    "    return a*3\n",
    "def ikiyeBol(a):\n",
    "    print(\"Üçüncü fonksiyon çalıştı.\")\n",
    "    a/2\n",
    "    print(a)\n",
    "ikiyeBol(ucleCarp(ikiyleTopla(10)))\n",
    "#Üçüncü fonksiyondaki değeri return etmeye gerek yok.Çünkü geri dönen değeri kullanacak yer yok."
   ]
  },
  {
   "cell_type": "code",
   "execution_count": 2,
   "metadata": {},
   "outputs": [
    {
     "name": "stdout",
     "output_type": "stream",
     "text": [
      "Merhaba : metehan\n"
     ]
    }
   ],
   "source": [
    "#Varsayılan parametre\n",
    "#Örnek\n",
    "def selamla(isim = \"metehan\"):\n",
    "    print(\"Merhaba :\",isim)\n",
    "selamla()\n",
    "#fonksiyon çağrılırken argüman girilmedi.Çünkü fonksiyon tanımlanırken varsayılan bir parametre değeri verildi."
   ]
  },
  {
   "cell_type": "code",
   "execution_count": 3,
   "metadata": {},
   "outputs": [
    {
     "name": "stdout",
     "output_type": "stream",
     "text": [
      "Bilgiler : metehan Özdeniz 58746\n"
     ]
    }
   ],
   "source": [
    "#Örnek\n",
    "def bilgiGoster(isim=\"metehan\",soyisim=\"Özdeniz\",numara=\"58746\"):\n",
    "    print(\"Bilgiler :\",isim,soyisim,numara)\n",
    "bilgiGoster()\n",
    "#Birden fazla varsayılan parametre girilirken verilen bilgilerin sırayla girilmesine dikkat edilmelidir."
   ]
  },
  {
   "cell_type": "code",
   "execution_count": 9,
   "metadata": {},
   "outputs": [
    {
     "name": "stdout",
     "output_type": "stream",
     "text": [
      "Fonksiyona verilen parametreler : (3, 4, 5)\n",
      "Fonksiyonun Sonucu : 12\n"
     ]
    }
   ],
   "source": [
    "#Bir fonksiyona istediğimiz kadar parametre ve argüman vermek istersek *(yıldız)lı parametere kullanmalıyız\n",
    "def toplama(*parametreler): #artık fonkiyonun parametreleri bir demet halini aldı\n",
    "    toplam = 0\n",
    "    print(\"Fonksiyona verilen parametreler :\", parametreler)\n",
    "    for i in parametreler:\n",
    "        toplam+=i\n",
    "    return toplam\n",
    "sonuc = toplama(3,4,5)\n",
    "print(\"Fonksiyonun Sonucu :\",sonuc)\n"
   ]
  },
  {
   "cell_type": "code",
   "execution_count": null,
   "metadata": {},
   "outputs": [],
   "source": [
    "#Global ve Local Değişkenler\n",
    "#Fonksiyonlarda tanımlanan değişkenler local değişkenler olarak tanımlanırlar.\n",
    "#Yeni bir fonksiyon bloğunda tanımlanan değişkenler fonksiyona özgüdür.Ve Dışarıdan erişilemezler.\n",
    "#Fonksiyon çalışmasını bitirdikten sonra değişkenler bellekten silinirler ve yok olur.\n",
    "#Örnek\n",
    "def fonksiyon(a):\n",
    "    a = 5\n",
    "print(a) #Değişken yok oldu.Hata verir."
   ]
  },
  {
   "cell_type": "code",
   "execution_count": 10,
   "metadata": {},
   "outputs": [],
   "source": [
    "#Global değişkenler de fonksiyon dışında tanımlanan değişkenlerdir ve tanımlandıktan sonra programın her yerinden erişileblirler."
   ]
  },
  {
   "cell_type": "code",
   "execution_count": 15,
   "metadata": {},
   "outputs": [
    {
     "name": "stdout",
     "output_type": "stream",
     "text": [
      "10\n",
      "10\n"
     ]
    }
   ],
   "source": [
    "#Global değişkenleri fonksiyonlarda kullanabilmek için ise \"global\" ifadesi kulklanılır\n",
    "a = 5\n",
    "def fonksiyon():\n",
    "    global a #Bunun sayesinde dışarıdaki global değişkeni fonksiyonda da kullanabiliriz.\n",
    "    a = 10 #Artık dışarıdaki a global değişkeni 10 oldu\n",
    "    print(a)\n",
    "fonksiyon()\n",
    "print(a)"
   ]
  },
  {
   "cell_type": "code",
   "execution_count": 16,
   "metadata": {},
   "outputs": [],
   "source": [
    "#Modüller\n",
    "#Bir Python modülünü programımıza import ederek bu modüller içinde yazılan hazır fonksiyonlardan ve sınıflardan kullanabilir \n",
    "#ve programlarımızı daha efektif bir şekilde yazabiliriz.\n",
    "#Eğer modül diye bir kavram olmasaydı, programlarımızdaki herbir fonksiyonu ve sınıfı kendimiz yazmak zorunda kalacaktık."
   ]
  },
  {
   "cell_type": "code",
   "execution_count": 17,
   "metadata": {},
   "outputs": [],
   "source": [
    "#Bir modülü prorgrama dahil etmek için;\n",
    "#Yöntem1\n",
    "#import [modül adı] şeklinde tanımlanır.\n",
    "#Örnek math modülü"
   ]
  },
  {
   "cell_type": "code",
   "execution_count": 19,
   "metadata": {},
   "outputs": [
    {
     "name": "stdout",
     "output_type": "stream",
     "text": [
      "['__doc__', '__loader__', '__name__', '__package__', '__spec__', 'acos', 'acosh', 'asin', 'asinh', 'atan', 'atan2', 'atanh', 'ceil', 'copysign', 'cos', 'cosh', 'degrees', 'e', 'erf', 'erfc', 'exp', 'expm1', 'fabs', 'factorial', 'floor', 'fmod', 'frexp', 'fsum', 'gamma', 'gcd', 'hypot', 'inf', 'isclose', 'isfinite', 'isinf', 'isnan', 'ldexp', 'lgamma', 'log', 'log10', 'log1p', 'log2', 'modf', 'nan', 'pi', 'pow', 'radians', 'remainder', 'sin', 'sinh', 'sqrt', 'tan', 'tanh', 'tau', 'trunc']\n"
     ]
    }
   ],
   "source": [
    "import math #Modül içeri aktarıldı.Artık bu modülün bütün fonksiyonları kullanılabilir.\n",
    "#Modülün içindeki fonksiyonları görmek için\n",
    "print(dir(math))"
   ]
  },
  {
   "cell_type": "code",
   "execution_count": 21,
   "metadata": {},
   "outputs": [
    {
     "name": "stdout",
     "output_type": "stream",
     "text": [
      "Help on built-in module math:\n",
      "\n",
      "NAME\n",
      "    math\n",
      "\n",
      "DESCRIPTION\n",
      "    This module is always available.  It provides access to the\n",
      "    mathematical functions defined by the C standard.\n",
      "\n",
      "FUNCTIONS\n",
      "    acos(x, /)\n",
      "        Return the arc cosine (measured in radians) of x.\n",
      "    \n",
      "    acosh(x, /)\n",
      "        Return the inverse hyperbolic cosine of x.\n",
      "    \n",
      "    asin(x, /)\n",
      "        Return the arc sine (measured in radians) of x.\n",
      "    \n",
      "    asinh(x, /)\n",
      "        Return the inverse hyperbolic sine of x.\n",
      "    \n",
      "    atan(x, /)\n",
      "        Return the arc tangent (measured in radians) of x.\n",
      "    \n",
      "    atan2(y, x, /)\n",
      "        Return the arc tangent (measured in radians) of y/x.\n",
      "        \n",
      "        Unlike atan(y/x), the signs of both x and y are considered.\n",
      "    \n",
      "    atanh(x, /)\n",
      "        Return the inverse hyperbolic tangent of x.\n",
      "    \n",
      "    ceil(x, /)\n",
      "        Return the ceiling of x as an Integral.\n",
      "        \n",
      "        This is the smallest integer >= x.\n",
      "    \n",
      "    copysign(x, y, /)\n",
      "        Return a float with the magnitude (absolute value) of x but the sign of y.\n",
      "        \n",
      "        On platforms that support signed zeros, copysign(1.0, -0.0)\n",
      "        returns -1.0.\n",
      "    \n",
      "    cos(x, /)\n",
      "        Return the cosine of x (measured in radians).\n",
      "    \n",
      "    cosh(x, /)\n",
      "        Return the hyperbolic cosine of x.\n",
      "    \n",
      "    degrees(x, /)\n",
      "        Convert angle x from radians to degrees.\n",
      "    \n",
      "    erf(x, /)\n",
      "        Error function at x.\n",
      "    \n",
      "    erfc(x, /)\n",
      "        Complementary error function at x.\n",
      "    \n",
      "    exp(x, /)\n",
      "        Return e raised to the power of x.\n",
      "    \n",
      "    expm1(x, /)\n",
      "        Return exp(x)-1.\n",
      "        \n",
      "        This function avoids the loss of precision involved in the direct evaluation of exp(x)-1 for small x.\n",
      "    \n",
      "    fabs(x, /)\n",
      "        Return the absolute value of the float x.\n",
      "    \n",
      "    factorial(x, /)\n",
      "        Find x!.\n",
      "        \n",
      "        Raise a ValueError if x is negative or non-integral.\n",
      "    \n",
      "    floor(x, /)\n",
      "        Return the floor of x as an Integral.\n",
      "        \n",
      "        This is the largest integer <= x.\n",
      "    \n",
      "    fmod(x, y, /)\n",
      "        Return fmod(x, y), according to platform C.\n",
      "        \n",
      "        x % y may differ.\n",
      "    \n",
      "    frexp(x, /)\n",
      "        Return the mantissa and exponent of x, as pair (m, e).\n",
      "        \n",
      "        m is a float and e is an int, such that x = m * 2.**e.\n",
      "        If x is 0, m and e are both 0.  Else 0.5 <= abs(m) < 1.0.\n",
      "    \n",
      "    fsum(seq, /)\n",
      "        Return an accurate floating point sum of values in the iterable seq.\n",
      "        \n",
      "        Assumes IEEE-754 floating point arithmetic.\n",
      "    \n",
      "    gamma(x, /)\n",
      "        Gamma function at x.\n",
      "    \n",
      "    gcd(x, y, /)\n",
      "        greatest common divisor of x and y\n",
      "    \n",
      "    hypot(x, y, /)\n",
      "        Return the Euclidean distance, sqrt(x*x + y*y).\n",
      "    \n",
      "    isclose(a, b, *, rel_tol=1e-09, abs_tol=0.0)\n",
      "        Determine whether two floating point numbers are close in value.\n",
      "        \n",
      "          rel_tol\n",
      "            maximum difference for being considered \"close\", relative to the\n",
      "            magnitude of the input values\n",
      "          abs_tol\n",
      "            maximum difference for being considered \"close\", regardless of the\n",
      "            magnitude of the input values\n",
      "        \n",
      "        Return True if a is close in value to b, and False otherwise.\n",
      "        \n",
      "        For the values to be considered close, the difference between them\n",
      "        must be smaller than at least one of the tolerances.\n",
      "        \n",
      "        -inf, inf and NaN behave similarly to the IEEE 754 Standard.  That\n",
      "        is, NaN is not close to anything, even itself.  inf and -inf are\n",
      "        only close to themselves.\n",
      "    \n",
      "    isfinite(x, /)\n",
      "        Return True if x is neither an infinity nor a NaN, and False otherwise.\n",
      "    \n",
      "    isinf(x, /)\n",
      "        Return True if x is a positive or negative infinity, and False otherwise.\n",
      "    \n",
      "    isnan(x, /)\n",
      "        Return True if x is a NaN (not a number), and False otherwise.\n",
      "    \n",
      "    ldexp(x, i, /)\n",
      "        Return x * (2**i).\n",
      "        \n",
      "        This is essentially the inverse of frexp().\n",
      "    \n",
      "    lgamma(x, /)\n",
      "        Natural logarithm of absolute value of Gamma function at x.\n",
      "    \n",
      "    log(...)\n",
      "        log(x, [base=math.e])\n",
      "        Return the logarithm of x to the given base.\n",
      "        \n",
      "        If the base not specified, returns the natural logarithm (base e) of x.\n",
      "    \n",
      "    log10(x, /)\n",
      "        Return the base 10 logarithm of x.\n",
      "    \n",
      "    log1p(x, /)\n",
      "        Return the natural logarithm of 1+x (base e).\n",
      "        \n",
      "        The result is computed in a way which is accurate for x near zero.\n",
      "    \n",
      "    log2(x, /)\n",
      "        Return the base 2 logarithm of x.\n",
      "    \n",
      "    modf(x, /)\n",
      "        Return the fractional and integer parts of x.\n",
      "        \n",
      "        Both results carry the sign of x and are floats.\n",
      "    \n",
      "    pow(x, y, /)\n",
      "        Return x**y (x to the power of y).\n",
      "    \n",
      "    radians(x, /)\n",
      "        Convert angle x from degrees to radians.\n",
      "    \n",
      "    remainder(x, y, /)\n",
      "        Difference between x and the closest integer multiple of y.\n",
      "        \n",
      "        Return x - n*y where n*y is the closest integer multiple of y.\n",
      "        In the case where x is exactly halfway between two multiples of\n",
      "        y, the nearest even value of n is used. The result is always exact.\n",
      "    \n",
      "    sin(x, /)\n",
      "        Return the sine of x (measured in radians).\n",
      "    \n",
      "    sinh(x, /)\n",
      "        Return the hyperbolic sine of x.\n",
      "    \n",
      "    sqrt(x, /)\n",
      "        Return the square root of x.\n",
      "    \n",
      "    tan(x, /)\n",
      "        Return the tangent of x (measured in radians).\n",
      "    \n",
      "    tanh(x, /)\n",
      "        Return the hyperbolic tangent of x.\n",
      "    \n",
      "    trunc(x, /)\n",
      "        Truncates the Real x to the nearest Integral toward 0.\n",
      "        \n",
      "        Uses the __trunc__ magic method.\n",
      "\n",
      "DATA\n",
      "    e = 2.718281828459045\n",
      "    inf = inf\n",
      "    nan = nan\n",
      "    pi = 3.141592653589793\n",
      "    tau = 6.283185307179586\n",
      "\n",
      "FILE\n",
      "    (built-in)\n",
      "\n",
      "\n",
      "None\n"
     ]
    }
   ],
   "source": [
    "#modülün içiğndeki fonkssiyonların kullanımını görmek için\n",
    "print(help(math))"
   ]
  },
  {
   "cell_type": "code",
   "execution_count": 22,
   "metadata": {},
   "outputs": [],
   "source": [
    "#Bu import edilen modüllerin fonksiyonlarını kullanabilmek için ise;\n",
    "#modül_adı.fonksiyon_adı()"
   ]
  },
  {
   "cell_type": "code",
   "execution_count": 24,
   "metadata": {},
   "outputs": [
    {
     "name": "stdout",
     "output_type": "stream",
     "text": [
      "120\n"
     ]
    }
   ],
   "source": [
    "#Örnek : math modülünün içimdeiki factorial fonksiyonunu kullanabilmek için\n",
    "print(math.factorial(5)) #5 sayısının faktöriyelini buldu.\n",
    "#Eğer bu modül import edilmeseydi, bir sayının faktöriyelini bulma fonksiyonunu kendi elimizle yazmak zorunda kalacaktık."
   ]
  },
  {
   "cell_type": "code",
   "execution_count": 26,
   "metadata": {},
   "outputs": [
    {
     "name": "stdout",
     "output_type": "stream",
     "text": [
      "120\n"
     ]
    }
   ],
   "source": [
    "#Bir modülü kendi belirlediğimiz isimle kullanabilmek için ise;\n",
    "#import modul_adı as vereceğimiz_isim\n",
    "#Örnek\n",
    "import math as matematik #math modülünü matematik ismiyle tanımladık\n",
    "print(matematik.factorial(5)) #math modülünü ise matematik ismiyle kullandık"
   ]
  },
  {
   "cell_type": "code",
   "execution_count": 27,
   "metadata": {},
   "outputs": [],
   "source": [
    "#Yöntem2\n",
    "#from modül_adı import*\n",
    "#Eğer modül böyle tanımlanmışsa modülü kullanırken modül ismini kullanmadan direkt olarak fonksiyonun ismini yazarak kullanırlır\n",
    "#*yıldız(*) ise modülün içindeki bütün fonksiyonları programa f-dahil et anlamına gelir.\n",
    "#Eğer bir modülün içindeki belirli fonksyonları kullanacaksak, kullanacağımız fonksiyonları yıldızın yerine virgülle ayırarak yazmalıyız."
   ]
  },
  {
   "cell_type": "code",
   "execution_count": 29,
   "metadata": {},
   "outputs": [
    {
     "name": "stdout",
     "output_type": "stream",
     "text": [
      "120\n"
     ]
    }
   ],
   "source": [
    "#Örnek\n",
    "from math import * # * ile Modülün içindeki bütün fonksiyonları programa dahil et dedik\n",
    "print(factorial(5))"
   ]
  },
  {
   "cell_type": "code",
   "execution_count": 31,
   "metadata": {},
   "outputs": [
    {
     "name": "stdout",
     "output_type": "stream",
     "text": [
      "120\n",
      "3\n"
     ]
    }
   ],
   "source": [
    "#Modülün içindeki belirli fonksiyonları almak için ise\n",
    "from math import factorial,floor\n",
    "print(factorial(5))\n",
    "print(floor(3.5))\n",
    "#Eğer modülün içindeki kullanacağımız fonksiyonu programa dahil etmeden kullanırsak hata verir."
   ]
  },
  {
   "cell_type": "code",
   "execution_count": 32,
   "metadata": {},
   "outputs": [],
   "source": [
    "#Not : Eğer kendi tanımladığımız fonksiyon, modülün fonksiyonunun ismiyle aynıysa, program en son gördüğü fonksiyonu çalıştıracaktır\n",
    "#Fakat hepsi çalışacaktır."
   ]
  },
  {
   "cell_type": "code",
   "execution_count": null,
   "metadata": {},
   "outputs": [],
   "source": []
  }
 ],
 "metadata": {
  "kernelspec": {
   "display_name": "Python 3",
   "language": "python",
   "name": "python3"
  },
  "language_info": {
   "codemirror_mode": {
    "name": "ipython",
    "version": 3
   },
   "file_extension": ".py",
   "mimetype": "text/x-python",
   "name": "python",
   "nbconvert_exporter": "python",
   "pygments_lexer": "ipython3",
   "version": "3.7.1"
  }
 },
 "nbformat": 4,
 "nbformat_minor": 2
}
